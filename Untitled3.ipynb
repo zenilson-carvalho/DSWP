{
  "nbformat": 4,
  "nbformat_minor": 0,
  "metadata": {
    "colab": {
      "name": "Untitled3.ipynb",
      "provenance": [],
      "authorship_tag": "ABX9TyP+KGDUGysA7P5lcTOb1y7+",
      "include_colab_link": true
    },
    "kernelspec": {
      "name": "python3",
      "display_name": "Python 3"
    }
  },
  "cells": [
    {
      "cell_type": "markdown",
      "metadata": {
        "id": "view-in-github",
        "colab_type": "text"
      },
      "source": [
        "<a href=\"https://colab.research.google.com/github/zenilson-carvalho/DSWP/blob/master/Untitled3.ipynb\" target=\"_parent\"><img src=\"https://colab.research.google.com/assets/colab-badge.svg\" alt=\"Open In Colab\"/></a>"
      ]
    },
    {
      "cell_type": "code",
      "metadata": {
        "id": "md8OW0f2eBK0"
      },
      "source": [
        ""
      ],
      "execution_count": null,
      "outputs": []
    },
    {
      "cell_type": "markdown",
      "metadata": {
        "id": "D871NMKPeCk6"
      },
      "source": [
        "Exercício do dia 05/10/2020\n",
        "\n"
      ]
    },
    {
      "cell_type": "code",
      "metadata": {
        "id": "4kRLJI1aeLma"
      },
      "source": [
        "# importação das bibliotecas\n",
        "import numpy as np\n",
        "import seaborn as sns"
      ],
      "execution_count": 1,
      "outputs": []
    },
    {
      "cell_type": "code",
      "metadata": {
        "id": "kfnFnJh1eRi4"
      },
      "source": [
        "# definição da classe\n",
        "class ExercicioDia03:\n",
        "    def __init__(self, media=None, dvp=None, qtde=None, seed=0):\n",
        "        np.random.seed(seed = seed)\n",
        "        self.f_media = media\n",
        "        self.f_dvp = dvp\n",
        "        self.i_qtde = qtde\n",
        "        self.a_salarios = np.random.normal(media, dvp, size=qtde)\n",
        "        self.a_quartis = np.percentile(self.a_salarios, q = [25, 50, 75])\n",
        "    \n",
        "    def getQuartil(self, quartil=None):\n",
        "        if quartil == None:\n",
        "            print(f'Q1: {self.a_quartis[0]}\\nQ2: {self.a_quartis[1]}\\nQ3: {self.a_quartis[2]}')\n",
        "            return self.a_quartis\n",
        "        else:\n",
        "            print(f'Q{quartil}: {self.a_quartis[quartil-1]}')\n",
        "            return self.a_quartis[quartil-1]\n",
        "    \n",
        "    def getOutliers(self):\n",
        "        q1 = self.getQuartil(1)\n",
        "        q3 = self.getQuartil(3)\n",
        "        lim_inferior = q3 - 1.5 * (q3-q1)\n",
        "        lim_superior = q3 + 1.5 * (q3-q1)\n",
        "        l_acima = self.a_salarios[self.a_salarios > lim_superior]\n",
        "        l_abaixo = self.a_salarios[self.a_salarios < lim_inferior]\n",
        "        print(f'limite inferior: {len(l_abaixo)} elemento(s) -> {l_abaixo}\\nlimite superior: {len(l_acima)} elemento(s) -> {l_acima}')\n",
        "    \n",
        "    def getBoxPlot(self):\n",
        "        sns.boxplot(y = self.a_salarios)\n"
      ],
      "execution_count": 2,
      "outputs": []
    },
    {
      "cell_type": "code",
      "metadata": {
        "id": "VlFG5dAJeb36",
        "outputId": "41bec473-ae4f-4328-bec6-664f185d775a",
        "colab": {
          "base_uri": "https://localhost:8080/",
          "height": 564
        }
      },
      "source": [
        "# execução do exercício:\n",
        "# Salário Médio de 1045, desvio padrão de 100, gerar 1000 salários (seed = ), calcular os percentis e identificar os outliers\n",
        "a = ExercicioDia03(media=1045,dvp=100,qtde=1000,seed=20111974)\n",
        "a.getOutliers()\n",
        "a.getBoxPlot()"
      ],
      "execution_count": 3,
      "outputs": [
        {
          "output_type": "stream",
          "text": [
            "Q1: 973.3240027196935\n",
            "Q3: 1117.6985191828794\n",
            "limite inferior: 71 elemento(s) -> [839.00443696 865.96585741 864.54512669 861.91708345 841.98741952\n",
            " 897.07409417 890.83916303 864.80505613 761.76442077 890.38206831\n",
            " 860.63879184 897.75889098 871.52061013 885.70463292 810.25580829\n",
            " 899.15361517 847.53593327 900.67555859 804.5329185  889.79832152\n",
            " 803.43645951 898.48847702 882.36768815 722.32716916 813.43870287\n",
            " 775.4936825  891.75595714 851.35811876 886.03950988 807.87168685\n",
            " 833.29420843 859.50902463 855.84300357 900.37581236 833.96497482\n",
            " 725.77372739 897.36837447 886.6778161  872.50363775 891.06689249\n",
            " 847.17944885 871.18314685 809.65088753 897.94712495 826.42540285\n",
            " 812.10062928 804.30961331 900.91019891 894.83229107 873.8111396\n",
            " 876.1907935  874.82465818 888.94981754 876.72129608 883.20300836\n",
            " 884.53675999 879.42164204 874.46405424 828.58007104 881.59117462\n",
            " 853.23421068 859.6417046  861.12805304 851.66312812 857.79697554\n",
            " 854.91253314 861.79374767 889.75343492 843.90117145 896.09070629\n",
            " 890.87639127]\n",
            "limite superior: 2 elemento(s) -> [1360.08705519 1389.10564233]\n"
          ],
          "name": "stdout"
        },
        {
          "output_type": "display_data",
          "data": {
            "image/png": "[encoded data removed]",
            "text/plain": [
              "<Figure size 432x288 with 1 Axes>"
            ]
          },
          "metadata": {
            "tags": [],
            "needs_background": "light"
          }
        }
      ]
    },
    {
      "cell_type": "code",
      "metadata": {
        "id": "kcxT6fETe1BJ"
      },
      "source": [
        ""
      ],
      "execution_count": 3,
      "outputs": []
    }
  ]
}